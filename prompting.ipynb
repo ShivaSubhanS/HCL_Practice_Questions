{
 "cells": [
  {
   "cell_type": "code",
   "execution_count": null,
   "id": "656f6675",
   "metadata": {},
   "outputs": [
    {
     "name": "stderr",
     "output_type": "stream",
     "text": [
      "/home/shiva_subhan_s/.local/lib/python3.12/site-packages/tqdm/auto.py:21: TqdmWarning: IProgress not found. Please update jupyter and ipywidgets. See https://ipywidgets.readthedocs.io/en/stable/user_install.html\n",
      "  from .autonotebook import tqdm as notebook_tqdm\n"
     ]
    }
   ],
   "source": [
    "import os\n",
    "import google.generativeai as genai\n",
    "\n",
    "api_key = os.getenv(\"GEMINI_API_KEY\")\n",
    "if not api_key:\n",
    "    raise ValueError(\"GEMINI_API_KEY environment variable not set.\")\n",
    "\n",
    "genai.configure(api_key=api_key)\n",
    "\n",
    "def ask_gemini(prompt, model=\"gemini-2.5-flash\"):\n",
    "    model = genai.GenerativeModel(model)\n",
    "    response = model.generate_content(prompt)\n",
    "    return response.text\n"
   ]
  },
  {
   "cell_type": "code",
   "execution_count": 2,
   "id": "f4898365",
   "metadata": {},
   "outputs": [
    {
     "name": "stdout",
     "output_type": "stream",
     "text": [
      "Zero-Shot Output:\n",
      " **Positive**\n"
     ]
    }
   ],
   "source": [
    "prompt = \"\"\"\n",
    "Classify the sentiment of the following review as Positive, Neutral, or Negative:\n",
    "\"I really enjoyed the new Batman movie, it was thrilling and well-acted.\"\n",
    "\"\"\"\n",
    "print(\"Zero-Shot Output:\\n\", ask_gemini(prompt))\n"
   ]
  },
  {
   "cell_type": "code",
   "execution_count": 3,
   "id": "99115e73",
   "metadata": {},
   "outputs": [
    {
     "name": "stdout",
     "output_type": "stream",
     "text": [
      "Few-Shot Output:\n",
      " Positive\n"
     ]
    }
   ],
   "source": [
    "prompt = \"\"\"\n",
    "Classify the sentiment of the following reviews as Positive, Neutral, or Negative.\n",
    "\n",
    "Review: \"The food was cold and bland.\"\n",
    "Sentiment: Negative\n",
    "\n",
    "Review: \"The service was fine, nothing special.\"\n",
    "Sentiment: Neutral\n",
    "\n",
    "Review: \"I really enjoyed the new Batman movie, it was thrilling and well-acted.\"\n",
    "Sentiment:\n",
    "\"\"\"\n",
    "print(\"Few-Shot Output:\\n\", ask_gemini(prompt))\n"
   ]
  },
  {
   "cell_type": "code",
   "execution_count": 4,
   "id": "1ece7fd5",
   "metadata": {},
   "outputs": [
    {
     "name": "stdout",
     "output_type": "stream",
     "text": [
      "Chain-of-Thought Output:\n",
      " Step 1: Identify key phrases that indicate sentiment.\n",
      "*   \"really enjoyed\"\n",
      "*   \"thrilling\"\n",
      "*   \"well-acted\"\n",
      "\n",
      "Step 2: Determine if they are positive, neutral, or negative.\n",
      "*   \"really enjoyed\": This is a strong positive expression.\n",
      "*   \"thrilling\": This is a positive adjective, indicating excitement and entertainment.\n",
      "*   \"well-acted\": This is a positive appraisal of the acting quality.\n",
      "\n",
      "Step 3: State the final sentiment clearly.\n",
      "The final sentiment is **Positive**.\n"
     ]
    }
   ],
   "source": [
    "prompt = \"\"\"\n",
    "Let's reason step by step.\n",
    "\n",
    "Task: Classify the sentiment of the review.\n",
    "\n",
    "Review: \"I really enjoyed the new Batman movie, it was thrilling and well-acted.\"\n",
    "\n",
    "Step 1: Identify key phrases that indicate sentiment.\n",
    "Step 2: Determine if they are positive, neutral, or negative.\n",
    "Step 3: State the final sentiment clearly.\n",
    "\n",
    "Answer:\n",
    "\"\"\"\n",
    "print(\"Chain-of-Thought Output:\\n\", ask_gemini(prompt))\n"
   ]
  },
  {
   "cell_type": "code",
   "execution_count": 5,
   "id": "6c522b70",
   "metadata": {},
   "outputs": [
    {
     "name": "stdout",
     "output_type": "stream",
     "text": [
      "\n",
      " Role-Playing Output:\n",
      " Hello there, super scientist! Come closer, let me tell you a secret about the quiet green superheroes all around us – the plants! Have you ever wondered how they grow so big and strong without ever going to the grocery store? They have a magical superpower called **photosynthesis**!\n",
      "\n",
      "Let's imagine a little leaf, let's call him **Leafy**, who lives on a big oak tree. Leafy's most important job is to make food for his whole tree family, because trees can't just pick up a snack!\n",
      "\n",
      "Every morning, Leafy wakes up and gets ready for his big day of cooking.\n",
      "\n",
      "1.  **The Mighty Sun Chef:** First, Leafy feels the warm, golden rays of the **sun**. The sun isn't just for making the day bright; it's like a giant oven or a magic spark that gives Leafy all the energy he needs to cook! Leafy has special little antennae inside him that soak up every bit of sunlight.\n",
      "\n",
      "2.  **The Water Delivery Service:** Next, Leafy gets a drink. From deep down in the soil, the tree's roots act like straws, sucking up fresh **water** and sending it all the way up the trunk, through tiny pipes, and right to Leafy. Leafy sips it up like a delicious morning juice.\n",
      "\n",
      "3.  **The Invisible Air Ingredient:** While Leafy is soaking up sun and sipping water, he also takes a deep breath of the air around him. But he's not breathing in *all* the air. He's specifically looking for a special invisible gas called **carbon dioxide**. He has tiny little mouths on his underside, too small to see, that open up and gulp in the carbon dioxide from the air. Think of it like a secret spice!\n",
      "\n",
      "So, now Leafy has his three main ingredients:\n",
      "*   **Sunlight** (the energy/magic spark)\n",
      "*   **Water** (the liquid)\n",
      "*   **Carbon Dioxide** (the invisible gas)\n",
      "\n",
      "Inside Leafy, there are millions of tiny, tiny green kitchens. These are called **chloroplasts**, and they have a special green color inside them called **chlorophyll** – that's why leaves are green! These are Leafy's super chefs!\n",
      "\n",
      "With the sun's energy as their power, the tiny green chefs get to work. They take the water and the carbon dioxide and start mixing, stirring, and transforming them in their little green kitchens.\n",
      "\n",
      "And guess what they make?\n",
      "\n",
      "1.  **Delicious Sugar Food!** Their main product is yummy, sugary food! This isn't table sugar, but a special kind of sugar (glucose) that gives the entire plant energy to grow new leaves, make flowers, and build strong branches. It's like the plant's own homemade energy bar!\n",
      "\n",
      "2.  **A Special Gifty Gas!** As a bonus, while making the sugar, Leafy also creates something else – **oxygen**! This is the fresh air that you and I, and all animals, breathe to live! Leafy releases this oxygen back into the sky through his tiny mouths, like saying, \"Here's a present for everyone!\"\n",
      "\n",
      "So, every time you see a plant, remember Leafy. He's not just sitting there; he's busy using sunlight, water, and carbon dioxide to make his own food (sugar) and, as a wonderful gift to us, the air we breathe (oxygen)! That's the amazing story of **photosynthesis**! Isn't that a super cool superpower?\n"
     ]
    }
   ],
   "source": [
    "prompt = \"\"\"\n",
    "You are a science teacher explaining to a 10-year-old.\n",
    "Explain photosynthesis using a simple story.\n",
    "\"\"\"\n",
    "print(\"\\n Role-Playing Output:\\n\", ask_gemini(prompt))"
   ]
  },
  {
   "cell_type": "code",
   "execution_count": 6,
   "id": "3341bfca",
   "metadata": {},
   "outputs": [
    {
     "name": "stdout",
     "output_type": "stream",
     "text": [
      "\n",
      " Role-Playing Output:\n",
      " As an AI biologist, I am delighted to explain photosynthesis in comprehensive detail. Photosynthesis is arguably the most crucial biochemical process on Earth, serving as the foundation for nearly all life and regulating our planet's atmosphere.\n",
      "\n",
      "---\n",
      "\n",
      "### **Photosynthesis: The Conversion of Light to Life**\n",
      "\n",
      "**Definition:** Photosynthesis is an anabolic (building up), endergonic (energy-requiring) biochemical process by which photoautotrophs (plants, algae, and cyanobacteria) convert light energy into chemical energy, stored in the bonds of organic molecules, primarily sugars. This process utilizes carbon dioxide and water as raw materials and releases oxygen as a byproduct.\n",
      "\n",
      "**The Overall Chemical Equation:**\n",
      "$6\\text{CO}_2 + 6\\text{H}_2\\text{O} + \\text{Light Energy} \\rightarrow \\text{C}_6\\text{H}_{12}\\text{O}_6 + 6\\text{O}_2$\n",
      "(Carbon Dioxide + Water + Light Energy $\\rightarrow$ Glucose + Oxygen)\n",
      "\n",
      "**Location:**\n",
      "In eukaryotic organisms (plants and algae), photosynthesis occurs within specialized organelles called **chloroplasts**. These chloroplasts are primarily found in the mesophyll cells of leaves. Within the chloroplast, there are distinct compartments:\n",
      "1.  **Stroma:** The dense fluid-filled space enclosed by the inner membrane, analogous to the cytoplasm of a prokaryotic cell.\n",
      "2.  **Thylakoids:** A system of interconnected flattened sacs or discs, which are often stacked into structures called **grana** (singular: granum). The thylakoid membranes are where the light-dependent reactions take place.\n",
      "\n",
      "**The Two Main Stages of Photosynthesis:**\n",
      "Photosynthesis is traditionally divided into two main sets of reactions:\n",
      "\n",
      "1.  **Light-Dependent Reactions (Light Reactions):** Occur in the thylakoid membranes.\n",
      "2.  **Light-Independent Reactions (Calvin Cycle or Dark Reactions):** Occur in the stroma.\n",
      "\n",
      "---\n",
      "\n",
      "### **1. Light-Dependent Reactions**\n",
      "\n",
      "The primary purpose of the light reactions is to convert light energy into chemical energy in the form of ATP (adenosine triphosphate) and NADPH (nicotinamide adenine dinucleotide phosphate), which will then power the synthesis of sugars.\n",
      "\n",
      "**Location:** Thylakoid membranes of the chloroplast.\n",
      "\n",
      "**Inputs:** Light energy, Water (H₂O), ADP (adenosine diphosphate), NADP+\n",
      "\n",
      "**Outputs:** ATP, NADPH, Oxygen (O₂)\n",
      "\n",
      "**Mechanism:**\n",
      "\n",
      "The thylakoid membranes contain complexes of pigments and proteins called **photosystems**. There are two main types, Photosystem II (PSII) and Photosystem I (PSI), which work in sequence.\n",
      "\n",
      "*   **Role of Chlorophyll and Other Pigments:**\n",
      "    *   **Chlorophylls** (primarily chlorophyll *a* and *b*) are the main light-absorbing pigments. Chlorophyll *a* is the primary photosynthetic pigment, directly involved in the light reactions, while chlorophyll *b* acts as an accessory pigment, broadening the range of light wavelengths that can be absorbed.\n",
      "    *   **Accessory pigments** (e.g., carotenoids) also absorb light at different wavelengths and transfer this energy to chlorophyll *a*.\n",
      "    *   **Absorption Spectrum:** Chlorophyll strongly absorbs red and blue-violet light but reflects green light, which is why most plants appear green.\n",
      "    *   **Process:** When a photon of light strikes a pigment molecule in a photosystem, the energy is absorbed, exciting an electron to a higher energy level. This excited energy is then passed from pigment to pigment within the **light-harvesting complex** until it reaches a special pair of chlorophyll *a* molecules in the **reaction center**.\n",
      "\n",
      "*   **Electron Flow and Energy Conversion:**\n",
      "\n",
      "    1.  **Photosystem II (PSII):** Light energy is absorbed by the pigments in PSII (specifically P680 chlorophyll *a* in the reaction center). This excites an electron, which is then captured by a primary electron acceptor.\n",
      "    2.  **Photolysis of Water:** To replace the lost electron from PSII, water molecules are split (a process called **photolysis**).\n",
      "        *   $2\\text{H}_2\\text{O} \\rightarrow 4\\text{H}^+ + 4\\text{e}^- + \\text{O}_2$\n",
      "        *   The electrons (e⁻) replenish PSII. The protons (H⁺) are released into the thylakoid lumen, contributing to the proton gradient. The oxygen (O₂) is released as a gaseous byproduct.\n",
      "    3.  **Electron Transport Chain (ETC):** The excited electron from PSII passes down an electron transport chain, which consists of several protein carriers (e.g., plastoquinone, cytochrome complex, plastocyanin). As electrons move down the chain, they lose energy, which is used to pump protons (H⁺) from the stroma into the thylakoid lumen, building up a high concentration of protons inside the lumen.\n",
      "    4.  **Photosystem I (PSI):** The electrons arrive at PSI, where they are re-energized by another absorption of light (specifically P700 chlorophyll *a* in the reaction center). These re-excited electrons are then passed to another primary electron acceptor.\n",
      "    5.  **NADPH Formation:** From the primary acceptor of PSI, the electrons move through a short second electron transport chain to the enzyme **NADP+ reductase**. This enzyme catalyzes the reduction of NADP+ to NADPH, using the electrons and a proton from the stroma:\n",
      "        *   $\\text{NADP}^+ + 2\\text{e}^- + \\text{H}^+ \\rightarrow \\text{NADPH}$\n",
      "        NADPH is a high-energy electron carrier.\n",
      "    6.  **ATP Synthesis (Chemiosmosis and Photophosphorylation):** The proton gradient established across the thylakoid membrane (high H⁺ concentration in the lumen, low in the stroma) represents a form of potential energy. Protons flow back from the lumen to the stroma through a channel protein called **ATP synthase**. This flow of protons drives the phosphorylation of ADP to ATP (ADP + Pi → ATP). This process is known as **photophosphorylation** because light energy drives it, and specifically **chemiosmosis** as it involves chemical movement across a membrane.\n",
      "\n",
      "**Summary of Light-Dependent Reactions:** Light energy is captured by pigments, primarily chlorophyll, exciting electrons. These electrons are passed through an ETC, powered by light, which creates a proton gradient. This gradient drives ATP synthesis (photophosphorylation). Water is split to replace electrons and release oxygen. Finally, the re-energized electrons reduce NADP+ to NADPH. The end products, ATP and NADPH, are then used in the next stage.\n",
      "\n",
      "---\n",
      "\n",
      "### **2. Light-Independent Reactions (Calvin Cycle)**\n",
      "\n",
      "The Calvin Cycle uses the ATP and NADPH produced during the light reactions to convert (fix) atmospheric carbon dioxide into organic sugar molecules. It is \"light-independent\" because it does not directly require light, but it *depends* on the products of the light reactions.\n",
      "\n",
      "**Location:** Stroma of the chloroplast.\n",
      "\n",
      "**Inputs:** Carbon Dioxide (CO₂), ATP, NADPH\n",
      "\n",
      "**Outputs:** Glyceraldehyde-3-Phosphate (G3P – a 3-carbon sugar, which is used to make glucose), ADP, NADP+\n",
      "\n",
      "**Mechanism (Three main phases):**\n",
      "\n",
      "The Calvin Cycle must turn three times to produce one net G3P molecule (it takes six turns to produce one molecule of glucose).\n",
      "\n",
      "1.  **Carbon Fixation:**\n",
      "    *   Each CO₂ molecule from the atmosphere is incorporated into an existing five-carbon sugar molecule called **ribulose-1,5-bisphosphate (RuBP)**.\n",
      "    *   This reaction is catalyzed by the enzyme **RuBisCO** (Ribulose-1,5-bisphosphate carboxylase/oxygenase), which is the most abundant protein on Earth.\n",
      "    *   The unstable six-carbon intermediate immediately splits into two molecules of **3-phosphoglycerate (3-PGA)**, a three-carbon compound. For every three CO₂ molecules fixed, six molecules of 3-PGA are formed.\n",
      "\n",
      "2.  **Reduction:**\n",
      "    *   Each 3-PGA molecule receives an additional phosphate group from ATP (from the light reactions), becoming 1,3-bisphosphoglycerate.\n",
      "    *   Then, NADPH (also from the light reactions) donates electrons, reducing 1,3-bisphosphoglycerate to **glyceraldehyde-3-phosphate (G3P)**. This step uses the high energy from ATP and the reducing power of NADPH.\n",
      "    *   For every three CO₂ molecules fixed, six molecules of G3P are produced. However, only one of these six G3P molecules is a net gain for the plant (to be used to make glucose or other organic compounds). The other five G3P molecules are needed for the next phase.\n",
      "\n",
      "3.  **Regeneration of RuBP:**\n",
      "    *   The remaining five G3P molecules are rearranged and, with the consumption of more ATP, are converted back into three molecules of RuBP. This regeneration is crucial as it allows the cycle to continue accepting new CO₂ molecules.\n",
      "\n",
      "**Fate of G3P:**\n",
      "The G3P molecules that exit the cycle are the building blocks for the plant's entire metabolism. Two G3P molecules can combine to form one molecule of **glucose (C₆H₁₂O₆)**. Glucose can then be:\n",
      "*   Used immediately for cellular respiration to power plant growth and activities.\n",
      "*   Linked together to form **starch** for long-term energy storage.\n",
      "*   Combined with fructose to form **sucrose**, the transport sugar in plants.\n",
      "*   Converted into other organic molecules like cellulose (for cell walls), amino acids, and fatty acids.\n",
      "\n",
      "---\n",
      "\n",
      "### **The Crucial Roles of Chlorophyll and Light Energy**\n",
      "\n",
      "**1. Role of Chlorophyll:**\n",
      "*   **Light Absorption:** Chlorophyll is the primary pigment responsible for capturing photons of light energy. Its molecular structure allows it to absorb specific wavelengths of the electromagnetic spectrum (primarily blue-violet and red light).\n",
      "*   **Electron Excitation:** When chlorophyll absorbs a photon, its electrons become energized and jump to a higher energy orbital. This is the initial step in converting light energy into a usable form for biochemical reactions.\n",
      "*   **Energy Transfer:** In the light-harvesting complexes of photosystems, chlorophyll molecules transfer this excitation energy to the reaction center chlorophyll *a* molecules (P680 in PSII, P700 in PSI), which then pass an excited electron to a primary electron acceptor. This initiates the electron transport chain.\n",
      "*   **Positioning:** Chlorophyll molecules are strategically embedded within the thylakoid membranes, forming part of the photosystems, optimizing their exposure to light and their interaction with electron transport chain components.\n",
      "\n",
      "**2. Role of Light Energy:**\n",
      "*   **Initial Energy Input:** Light energy is the ultimate power source for photosynthesis. Without it, the entire process would cease.\n",
      "*   **Electron Excitation:** It directly energizes the electrons within chlorophyll molecules, giving them the potential energy needed to drive the electron transport chain.\n",
      "*   **Driving Electron Flow:** The repeated absorption of light in both PSII and PSI provides the necessary energy boosts to keep the electrons moving through the ETC against their electrochemical gradient.\n",
      "*   **ATP and NADPH Production:** The energy from light, funneled through the excited electrons and the ETC, is ultimately converted into the chemical energy stored in ATP (through chemiosmosis/photophosphorylation) and the reducing power of NADPH. These are the immediate energy currency for sugar synthesis.\n",
      "*   **Water Splitting (Indirectly):** While enzymes directly split water, the energy from light is essential for creating the electron deficit in PSII that necessitates water splitting for electron replacement.\n",
      "\n",
      "---\n",
      "\n",
      "**Overall Significance of Photosynthesis:**\n",
      "*   **Primary Energy Source:** Photosynthesis is the ultimate source of energy for nearly all life on Earth. Photoautotrophs form the base of almost every food chain.\n",
      "*   **Oxygen Production:** It continuously replenishes the atmospheric oxygen, which is vital for aerobic respiration in most living organisms.\n",
      "*   **Carbon Cycle Regulation:** Photosynthesis removes vast amounts of carbon dioxide from the atmosphere, helping to regulate Earth's climate and mitigating the effects of greenhouse gases.\n",
      "*   **Biomass Production:** It produces the organic molecules (biomass) that constitute plant structures and serve as food for heterotrophs.\n",
      "\n",
      "In essence, photosynthesis is a marvel of biological engineering, meticulously transforming diffuse light energy into the chemical energy that sustains the intricate web of life on our planet.\n"
     ]
    }
   ],
   "source": [
    "prompt= \"\"\"\n",
    "You are an AI biologist who always answers with scientific accuracy and detail.\n",
    "Explain photosynthesis thoroughly, including the role of chlorophyll and light energy.\n",
    "\"\"\"\n",
    "print(\"\\n Role-Playing Output:\\n\", ask_gemini(prompt))"
   ]
  }
 ],
 "metadata": {
  "kernelspec": {
   "display_name": "Python 3",
   "language": "python",
   "name": "python3"
  },
  "language_info": {
   "codemirror_mode": {
    "name": "ipython",
    "version": 3
   },
   "file_extension": ".py",
   "mimetype": "text/x-python",
   "name": "python",
   "nbconvert_exporter": "python",
   "pygments_lexer": "ipython3",
   "version": "3.12.3"
  }
 },
 "nbformat": 4,
 "nbformat_minor": 5
}
